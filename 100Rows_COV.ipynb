{
  "nbformat": 4,
  "nbformat_minor": 0,
  "metadata": {
    "colab": {
      "name": "100Rows_COV.ipynb",
      "provenance": [],
      "toc_visible": true
    },
    "kernelspec": {
      "name": "python3",
      "display_name": "Python 3"
    },
    "language_info": {
      "name": "python"
    }
  },
  "cells": [
    {
      "cell_type": "code",
      "metadata": {
        "id": "cjR4vvI12bPm"
      },
      "source": [
        "import collections\n",
        "from collections import OrderedDict\n",
        "from matplotlib import pyplot as plt\n",
        "from matplotlib import cm\n",
        "import pylab\n",
        "import math\n",
        "from google.colab import drive\n",
        "import pickle"
      ],
      "execution_count": null,
      "outputs": []
    },
    {
      "cell_type": "code",
      "source": [
        "from google.colab import drive\n",
        "#drive.mount('/content/drive')\n",
        "drive.mount(\"/content/drive\", force_remount=True)"
      ],
      "metadata": {
        "id": "DZE0edriwtBR",
        "colab": {
          "base_uri": "https://localhost:8080/"
        },
        "outputId": "87b042a3-469c-4e08-f841-51437cdc5601"
      },
      "execution_count": null,
      "outputs": [
        {
          "output_type": "stream",
          "name": "stdout",
          "text": [
            "Mounted at /content/drive\n"
          ]
        }
      ]
    },
    {
      "cell_type": "code",
      "metadata": {
        "id": "_a1vwklh24UF"
      },
      "source": [
        "def importData(path):\n",
        "  f = open(\"/content/drive/My Drive/CAPSTONE COVID DATASET/\"+path+\".rtf\")\n",
        "  s1 = f.read()\n",
        "  data = \"\".join(s1.split(\"\\n\")[1:])\n",
        "  return data"
      ],
      "execution_count": null,
      "outputs": []
    },
    {
      "cell_type": "code",
      "metadata": {
        "id": "I90Kg96V6S9w"
      },
      "source": [
        "def getInput2(path):\n",
        "  f = open(\"/content/drive/My Drive/CAPSTONE COVID DATASET/\"+path+\".rtf\")\n",
        "  s1 = f.read()\n",
        "  d=(s1.split(\">\"))[1:]\n",
        "  pool=[]\n",
        "  for string in d:\n",
        "    split_list=\"\".join(string.split(\"\\n\")[1:])\n",
        "    split_list=dropN(split_list.upper())\n",
        "    pool.append(split_list)\n",
        "  \n",
        "  return pool"
      ],
      "execution_count": null,
      "outputs": []
    },
    {
      "cell_type": "code",
      "metadata": {
        "id": "KBxFAx-I3Cps"
      },
      "source": [
        "def dropN(a):\n",
        "  res=\"\"\n",
        "  for letter in a:\n",
        "    if(letter!=\"N\"):\n",
        "      res+=letter\n",
        "  return res"
      ],
      "execution_count": null,
      "outputs": []
    },
    {
      "cell_type": "code",
      "metadata": {
        "id": "4hAiu8vb3VrU"
      },
      "source": [
        "def count_kmers(a,k):\n",
        "  d=collections.defaultdict(int)\n",
        "  for i in range(len(a)-k+1):\n",
        "    d[a[i:i+k]]+=1\n",
        "\n",
        "  return d"
      ],
      "execution_count": null,
      "outputs": []
    },
    {
      "cell_type": "code",
      "metadata": {
        "id": "NilKSUKK6Sft"
      },
      "source": [
        "def count_probability(f,k,N):\n",
        "  p=collections.defaultdict(float)\n",
        "  for key in f.keys():\n",
        "    p[key]=(float)(f[key]/(N-k+1))\n",
        "  \n",
        "  return p"
      ],
      "execution_count": null,
      "outputs": []
    },
    {
      "cell_type": "code",
      "metadata": {
        "id": "FNtmLH3tDq09"
      },
      "source": [
        "def chaos_game_representation(probabilities, k):\n",
        "    array_size = int(math.sqrt(4**k))\n",
        "    chaos = []\n",
        "    for i in range(array_size):\n",
        "        chaos.append([0]*array_size)\n",
        " \n",
        "    maxx = array_size\n",
        "    maxy = array_size\n",
        "    posx = 1\n",
        "    posy = 1\n",
        "    for key, value in probabilities.items():\n",
        "        for char in key:\n",
        "            if char == \"T\":\n",
        "                posx += maxx / 2\n",
        "            elif char == \"C\":\n",
        "                posy += maxy / 2\n",
        "            elif char == \"G\":\n",
        "                posx += maxx / 2\n",
        "                posy += maxy / 2\n",
        "            maxx = maxx / 2\n",
        "            maxy /= 2\n",
        "        chaos[(int)(posy)-1][(int)(posx)-1] = value\n",
        "        maxx = array_size\n",
        "        maxy = array_size\n",
        "        posx = 1\n",
        "        posy = 1\n",
        " \n",
        "    return chaos"
      ],
      "execution_count": null,
      "outputs": []
    },
    {
      "cell_type": "code",
      "metadata": {
        "id": "iX7geTUVFksQ"
      },
      "source": [
        "def plotPoints(chaos,path):\n",
        "  # plt.title('Chaos game representation for 4-mers')\n",
        "  plt.imshow(chaos, interpolation='nearest', cmap=cm.gray_r)\n",
        "  plt.savefig('/content/drive/My Drive/CAPSTONE COVID DATASET/COV_Final/'+path+'.png', dpi=300)\n",
        "  # plt.show()"
      ],
      "execution_count": null,
      "outputs": []
    },
    {
      "cell_type": "code",
      "metadata": {
        "id": "JJJyVoNkFH_q"
      },
      "source": [
        "def plotPoints2(chaos,path,i):\n",
        "  # plt.title('Chaos game representation for 4-mers')\n",
        "  plt.imshow(chaos, interpolation='nearest', cmap=cm.gray_r)\n",
        "  plt.savefig('/content/drive/My Drive/CAPSTONE COVID DATASET/COV_Final/'+path+str(i)+'.png', dpi=300)\n",
        "  # plt.show()"
      ],
      "execution_count": null,
      "outputs": []
    },
    {
      "cell_type": "markdown",
      "source": [
        "##Single FCGR for 100 Rows of Covid"
      ],
      "metadata": {
        "id": "miGgo_AGBu5H"
      }
    },
    {
      "cell_type": "code",
      "metadata": {
        "id": "6IAwsuGV3E6R"
      },
      "source": [
        "file=\"Rows_COV\"\n",
        "data=importData(file)\n",
        "data=dropN(data.upper())"
      ],
      "execution_count": null,
      "outputs": []
    },
    {
      "cell_type": "code",
      "metadata": {
        "id": "sfMMXAEU4sRl"
      },
      "source": [
        "frequencies=count_kmers(data,4)\n",
        "probabilities=count_probability(frequencies,4,len(data))"
      ],
      "execution_count": null,
      "outputs": []
    },
    {
      "cell_type": "code",
      "metadata": {
        "id": "NpLhRkzA6w6m"
      },
      "source": [
        "chaos=chaos_game_representation(probabilities,4)"
      ],
      "execution_count": null,
      "outputs": []
    },
    {
      "cell_type": "code",
      "metadata": {
        "id": "wEDor-Q0Eayi",
        "outputId": "fce71a0b-7506-4a28-e512-cfb3c86374af",
        "colab": {
          "base_uri": "https://localhost:8080/",
          "height": 265
        }
      },
      "source": [
        "plotPoints(chaos,\"fcgr_\"+file)"
      ],
      "execution_count": null,
      "outputs": [
        {
          "output_type": "display_data",
          "data": {
            "text/plain": [
              "<Figure size 432x288 with 1 Axes>"
            ],
            "image/png": "[encoded data removed]"
          },
          "metadata": {
            "needs_background": "light"
          }
        }
      ]
    },
    {
      "cell_type": "markdown",
      "source": [
        "##Batch FCGR for 100 Rows of COVID"
      ],
      "metadata": {
        "id": "e2GJ8yAKGC09"
      }
    },
    {
      "cell_type": "code",
      "metadata": {
        "id": "KCl4DodAEOId"
      },
      "source": [
        "file=\"Rows_COV\"\n",
        "pool_old=getInput2(file)"
      ],
      "execution_count": null,
      "outputs": []
    },
    {
      "cell_type": "code",
      "metadata": {
        "id": "uJAGhzJvHClE"
      },
      "source": [
        "pool=[]\n",
        "for i in range(len(pool_old)):\n",
        "  if(len(pool_old[i])>=5000):\n",
        "    pool.append(pool_old[i])"
      ],
      "execution_count": null,
      "outputs": []
    },
    {
      "cell_type": "code",
      "metadata": {
        "id": "TUkGmiZLH7aK",
        "outputId": "e3323675-f073-4b17-b09b-ebeedd74032c",
        "colab": {
          "base_uri": "https://localhost:8080/"
        }
      },
      "source": [
        "len(pool)"
      ],
      "execution_count": null,
      "outputs": [
        {
          "output_type": "execute_result",
          "data": {
            "text/plain": [
              "100"
            ]
          },
          "metadata": {},
          "execution_count": 26
        }
      ]
    },
    {
      "cell_type": "code",
      "metadata": {
        "id": "-NnecRaNEesr",
        "outputId": "a03eaf05-7ab4-41de-b8d8-1af5f935dc85",
        "colab": {
          "base_uri": "https://localhost:8080/",
          "height": 439
        }
      },
      "source": [
        "chaos_pool=[]\n",
        "k=4\n",
        "for i in range(100):\n",
        "  frequencies=count_kmers(pool[i],k)\n",
        "  probabilities=count_probability(frequencies,k,len(pool[i]))\n",
        "  chaos=chaos_game_representation(probabilities,k)\n",
        "  chaos_pool.append(chaos)\n",
        "  plotPoints2(chaos,file,i)\n",
        "  if((i+1)%10==0):\n",
        "    print((i+1),\" completed processing.\")"
      ],
      "execution_count": null,
      "outputs": [
        {
          "output_type": "stream",
          "name": "stdout",
          "text": [
            "10  completed processing.\n",
            "20  completed processing.\n",
            "30  completed processing.\n",
            "40  completed processing.\n",
            "50  completed processing.\n",
            "60  completed processing.\n",
            "70  completed processing.\n",
            "80  completed processing.\n",
            "90  completed processing.\n",
            "100  completed processing.\n"
          ]
        },
        {
          "output_type": "display_data",
          "data": {
            "text/plain": [
              "<Figure size 432x288 with 1 Axes>"
            ],
            "image/png": "[encoded data removed]"
          },
          "metadata": {
            "needs_background": "light"
          }
        }
      ]
    },
    {
      "cell_type": "code",
      "metadata": {
        "id": "I32Gi-8lFfGM",
        "outputId": "dc9ec25a-b3c8-4638-beba-d7817b3b3b72",
        "colab": {
          "base_uri": "https://localhost:8080/"
        }
      },
      "source": [
        "len(chaos_pool)"
      ],
      "execution_count": null,
      "outputs": [
        {
          "output_type": "execute_result",
          "data": {
            "text/plain": [
              "100"
            ]
          },
          "metadata": {},
          "execution_count": 28
        }
      ]
    },
    {
      "cell_type": "code",
      "metadata": {
        "id": "2005uudNUe2M"
      },
      "source": [
        "with open('/content/drive/My Drive/CAPSTONE COVID DATASET/'+file+'/chaos_pool.pkl','wb') as p:\n",
        "  pickle.dump(chaos_pool,p)\n",
        "\n",
        "# #to load from pickle files\n",
        "with open('/content/drive/My Drive/CAPSTONE COVID DATASET/Rows_COV/chaos_pool.pkl', 'rb') as f:\n",
        "   mynewlist = pickle.load(f)"
      ],
      "execution_count": null,
      "outputs": []
    }
  ]
}