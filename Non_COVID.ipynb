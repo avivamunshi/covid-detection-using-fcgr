{
  "nbformat": 4,
  "nbformat_minor": 0,
  "metadata": {
    "colab": {
      "name": "Non_COVID.ipynb",
      "provenance": [],
      "toc_visible": true
    },
    "kernelspec": {
      "name": "python3",
      "display_name": "Python 3"
    },
    "language_info": {
      "name": "python"
    }
  },
  "cells": [
    {
      "cell_type": "code",
      "metadata": {
        "id": "cjR4vvI12bPm"
      },
      "source": [
        "import collections\n",
        "from collections import OrderedDict\n",
        "from matplotlib import pyplot as plt\n",
        "from matplotlib import cm\n",
        "import pylab\n",
        "import math\n",
        "from google.colab import drive\n",
        "import pickle"
      ],
      "execution_count": null,
      "outputs": []
    },
    {
      "cell_type": "code",
      "source": [
        "from google.colab import drive\n",
        "#drive.mount('/content/drive')\n",
        "drive.mount(\"/content/drive\", force_remount=True)"
      ],
      "metadata": {
        "id": "DZE0edriwtBR",
        "colab": {
          "base_uri": "https://localhost:8080/"
        },
        "outputId": "a9d1c5ba-ea0c-441b-9df6-82164970cc22"
      },
      "execution_count": null,
      "outputs": [
        {
          "output_type": "stream",
          "name": "stdout",
          "text": [
            "Mounted at /content/drive\n"
          ]
        }
      ]
    },
    {
      "cell_type": "code",
      "metadata": {
        "id": "_a1vwklh24UF"
      },
      "source": [
        "def importData(path):\n",
        "  f = open(\"/content/drive/My Drive/CAPSTONE COVID DATASET/\"+path+\".rtf\")\n",
        "  s1 = f.read()\n",
        "  data = \"\".join(s1.split(\"\\n\")[1:])\n",
        "  return data"
      ],
      "execution_count": null,
      "outputs": []
    },
    {
      "cell_type": "code",
      "metadata": {
        "id": "I90Kg96V6S9w"
      },
      "source": [
        "def getInput2(path):\n",
        "  f = open(\"/content/drive/My Drive/CAPSTONE COVID DATASET/\"+path+\".rtf\")\n",
        "  s1 = f.read()\n",
        "  d=(s1.split(\">\"))[1:]\n",
        "  pool=[]\n",
        "  for string in d:\n",
        "    split_list=\"\".join(string.split(\"\\n\")[1:])\n",
        "    split_list=dropN(split_list.upper())\n",
        "    pool.append(split_list)\n",
        "  \n",
        "  return pool"
      ],
      "execution_count": null,
      "outputs": []
    },
    {
      "cell_type": "code",
      "metadata": {
        "id": "KBxFAx-I3Cps"
      },
      "source": [
        "def dropN(a):\n",
        "  res=\"\"\n",
        "  for letter in a:\n",
        "    if(letter!=\"N\"):\n",
        "      res+=letter\n",
        "  return res"
      ],
      "execution_count": null,
      "outputs": []
    },
    {
      "cell_type": "code",
      "metadata": {
        "id": "4hAiu8vb3VrU"
      },
      "source": [
        "def count_kmers(a,k):\n",
        "  d=collections.defaultdict(int)\n",
        "  for i in range(len(a)-k+1):\n",
        "    d[a[i:i+k]]+=1\n",
        "\n",
        "  return d"
      ],
      "execution_count": null,
      "outputs": []
    },
    {
      "cell_type": "code",
      "metadata": {
        "id": "NilKSUKK6Sft"
      },
      "source": [
        "def count_probability(f,k,N):\n",
        "  p=collections.defaultdict(float)\n",
        "  for key in f.keys():\n",
        "    p[key]=(float)(f[key]/(N-k+1))\n",
        "  \n",
        "  return p"
      ],
      "execution_count": null,
      "outputs": []
    },
    {
      "cell_type": "code",
      "metadata": {
        "id": "FNtmLH3tDq09"
      },
      "source": [
        "def chaos_game_representation(probabilities, k):\n",
        "    array_size = int(math.sqrt(4**k))\n",
        "    chaos = []\n",
        "    for i in range(array_size):\n",
        "        chaos.append([0]*array_size)\n",
        " \n",
        "    maxx = array_size\n",
        "    maxy = array_size\n",
        "    posx = 1\n",
        "    posy = 1\n",
        "    for key, value in probabilities.items():\n",
        "        for char in key:\n",
        "            if char == \"T\":\n",
        "                posx += maxx / 2\n",
        "            elif char == \"C\":\n",
        "                posy += maxy / 2\n",
        "            elif char == \"G\":\n",
        "                posx += maxx / 2\n",
        "                posy += maxy / 2\n",
        "            maxx = maxx / 2\n",
        "            maxy /= 2\n",
        "        chaos[(int)(posy)-1][(int)(posx)-1] = value\n",
        "        maxx = array_size\n",
        "        maxy = array_size\n",
        "        posx = 1\n",
        "        posy = 1\n",
        " \n",
        "    return chaos"
      ],
      "execution_count": null,
      "outputs": []
    },
    {
      "cell_type": "code",
      "metadata": {
        "id": "iX7geTUVFksQ"
      },
      "source": [
        "def plotPoints(chaos,path):\n",
        "  # plt.title('Chaos game representation for 4-mers')\n",
        "  plt.imshow(chaos, interpolation='nearest', cmap=cm.gray_r)\n",
        "  plt.savefig('/content/drive/My Drive/CAPSTONE COVID DATASET/fasta_fcgr/'+path+'.n_cov.png', dpi=300)\n",
        "  # plt.show()"
      ],
      "execution_count": null,
      "outputs": []
    },
    {
      "cell_type": "code",
      "metadata": {
        "id": "JJJyVoNkFH_q"
      },
      "source": [
        "def plotPoints2(chaos,path,i):\n",
        "  # plt.title('Chaos game representation for 4-mers')\n",
        "  plt.imshow(chaos, interpolation='nearest', cmap=cm.gray_r)\n",
        "  plt.savefig('/content/drive/My Drive/CAPSTONE COVID DATASET/fasta_fcgr/'+path+'/'+str(i)+'n_cov.png', dpi=300)\n",
        "  # plt.show()"
      ],
      "execution_count": null,
      "outputs": []
    },
    {
      "cell_type": "markdown",
      "source": [
        "##Single FCGR for non-COVID rows"
      ],
      "metadata": {
        "id": "mfXYvhDCWi7x"
      }
    },
    {
      "cell_type": "code",
      "metadata": {
        "id": "6IAwsuGV3E6R"
      },
      "source": [
        "file=\"581_non_COV\"\n",
        "data=importData(file)\n",
        "data=dropN(data.upper())"
      ],
      "execution_count": null,
      "outputs": []
    },
    {
      "cell_type": "code",
      "metadata": {
        "id": "sfMMXAEU4sRl"
      },
      "source": [
        "frequencies=count_kmers(data,4)\n",
        "probabilities=count_probability(frequencies,4,len(data))"
      ],
      "execution_count": null,
      "outputs": []
    },
    {
      "cell_type": "code",
      "metadata": {
        "id": "NpLhRkzA6w6m"
      },
      "source": [
        "chaos=chaos_game_representation(probabilities,4)"
      ],
      "execution_count": null,
      "outputs": []
    },
    {
      "cell_type": "code",
      "metadata": {
        "id": "wEDor-Q0Eayi",
        "outputId": "13fe472a-a1fd-41e4-8af2-8160747b7b79",
        "colab": {
          "base_uri": "https://localhost:8080/",
          "height": 265
        }
      },
      "source": [
        "plotPoints(chaos,\"fcgr_\"+file)"
      ],
      "execution_count": null,
      "outputs": [
        {
          "output_type": "display_data",
          "data": {
            "text/plain": [
              "<Figure size 432x288 with 1 Axes>"
            ],
            "image/png": "[encoded data removed]"
          },
          "metadata": {
            "needs_background": "light"
          }
        }
      ]
    },
    {
      "cell_type": "markdown",
      "source": [
        "##Batch FCGR for non-COVID rows"
      ],
      "metadata": {
        "id": "zR9sb2PgW38e"
      }
    },
    {
      "cell_type": "code",
      "metadata": {
        "id": "KCl4DodAEOId",
        "colab": {
          "base_uri": "https://localhost:8080/"
        },
        "outputId": "862f4b87-353d-4f89-ed99-9ab8a15d3cc7"
      },
      "source": [
        "file=\"581_non_COV\"\n",
        "pool_old=getInput2(file)\n",
        "len(file)"
      ],
      "execution_count": null,
      "outputs": [
        {
          "output_type": "execute_result",
          "data": {
            "text/plain": [
              "11"
            ]
          },
          "metadata": {},
          "execution_count": 16
        }
      ]
    },
    {
      "cell_type": "code",
      "metadata": {
        "id": "uJAGhzJvHClE"
      },
      "source": [
        "pool=[]\n",
        "for i in range(len(pool_old)):\n",
        "  if(len(pool_old[i])>=5000):\n",
        "    pool.append(pool_old[i])"
      ],
      "execution_count": null,
      "outputs": []
    },
    {
      "cell_type": "code",
      "metadata": {
        "id": "TUkGmiZLH7aK",
        "outputId": "230b9c81-b61e-4f6a-fa87-bf83b8bec515",
        "colab": {
          "base_uri": "https://localhost:8080/"
        }
      },
      "source": [
        "len(pool)"
      ],
      "execution_count": null,
      "outputs": [
        {
          "output_type": "execute_result",
          "data": {
            "text/plain": [
              "398"
            ]
          },
          "metadata": {},
          "execution_count": 18
        }
      ]
    },
    {
      "cell_type": "code",
      "metadata": {
        "id": "-NnecRaNEesr",
        "outputId": "d29cc26f-8797-4488-9a32-b41b4858d324",
        "colab": {
          "base_uri": "https://localhost:8080/",
          "height": 942
        }
      },
      "source": [
        "chaos_pool=[]\n",
        "k=4\n",
        "for i in range(398):\n",
        "  frequencies=count_kmers(pool[i],k)\n",
        "  probabilities=count_probability(frequencies,k,len(pool[i]))\n",
        "  chaos=chaos_game_representation(probabilities,k)\n",
        "  chaos_pool.append(chaos)\n",
        "  plotPoints2(chaos,file,i)\n",
        "  if((i+1)%10==0):\n",
        "    print((i+1),\" completed processing.\")"
      ],
      "execution_count": null,
      "outputs": [
        {
          "output_type": "stream",
          "name": "stdout",
          "text": [
            "10  completed processing.\n",
            "20  completed processing.\n",
            "30  completed processing.\n",
            "40  completed processing.\n",
            "50  completed processing.\n",
            "60  completed processing.\n",
            "70  completed processing.\n",
            "80  completed processing.\n",
            "90  completed processing.\n",
            "100  completed processing.\n",
            "110  completed processing.\n",
            "120  completed processing.\n",
            "130  completed processing.\n",
            "140  completed processing.\n",
            "150  completed processing.\n",
            "160  completed processing.\n",
            "170  completed processing.\n",
            "180  completed processing.\n",
            "190  completed processing.\n",
            "200  completed processing.\n",
            "210  completed processing.\n",
            "220  completed processing.\n",
            "230  completed processing.\n",
            "240  completed processing.\n",
            "250  completed processing.\n",
            "260  completed processing.\n",
            "270  completed processing.\n",
            "280  completed processing.\n",
            "290  completed processing.\n",
            "300  completed processing.\n",
            "310  completed processing.\n",
            "320  completed processing.\n",
            "330  completed processing.\n",
            "340  completed processing.\n",
            "350  completed processing.\n",
            "360  completed processing.\n",
            "370  completed processing.\n",
            "380  completed processing.\n",
            "390  completed processing.\n"
          ]
        },
        {
          "output_type": "display_data",
          "data": {
            "text/plain": [
              "<Figure size 432x288 with 1 Axes>"
            ],
            "image/png": "[encoded data removed]"
          },
          "metadata": {
            "needs_background": "light"
          }
        }
      ]
    },
    {
      "cell_type": "code",
      "metadata": {
        "id": "I32Gi-8lFfGM",
        "outputId": "4e4443c9-ff35-473c-db42-e9201fa20de1",
        "colab": {
          "base_uri": "https://localhost:8080/"
        }
      },
      "source": [
        "len(chaos_pool)"
      ],
      "execution_count": null,
      "outputs": [
        {
          "output_type": "execute_result",
          "data": {
            "text/plain": [
              "398"
            ]
          },
          "metadata": {},
          "execution_count": 82
        }
      ]
    },
    {
      "cell_type": "code",
      "metadata": {
        "id": "2005uudNUe2M"
      },
      "source": [
        "with open('/content/drive/My Drive/CAPSTONE COVID DATASET/'+file+'/chaos_pool.pkl','wb') as p:\n",
        "  pickle.dump(chaos_pool,p)\n",
        "\n",
        "# #to load from pickle files\n",
        "with open('/content/drive/My Drive/CAPSTONE COVID DATASET/581_non_COV/chaos_pool.pkl', 'rb') as f:\n",
        "   mynewlist = pickle.load(f)"
      ],
      "execution_count": null,
      "outputs": []
    }
  ]
}