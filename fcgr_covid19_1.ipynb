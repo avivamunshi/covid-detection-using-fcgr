{
  "nbformat": 4,
  "nbformat_minor": 0,
  "metadata": {
    "colab": {
      "name": "fcgr_covid19_1.ipynb",
      "provenance": [],
      "collapsed_sections": [],
      "toc_visible": true
    },
    "kernelspec": {
      "name": "python3",
      "display_name": "Python 3"
    }
  },
  "cells": [
    {
      "cell_type": "code",
      "metadata": {
        "id": "cjR4vvI12bPm"
      },
      "source": [
        "import collections\n",
        "from collections import OrderedDict\n",
        "from matplotlib import pyplot as plt\n",
        "from matplotlib import cm\n",
        "import pylab\n",
        "import math\n",
        "from google.colab import drive\n",
        "import pickle"
      ],
      "execution_count": null,
      "outputs": []
    },
    {
      "cell_type": "code",
      "source": [
        "from google.colab import drive\n",
        "#drive.mount('/content/drive')\n",
        "drive.mount(\"/content/drive\", force_remount=True)"
      ],
      "metadata": {
        "colab": {
          "base_uri": "https://localhost:8080/"
        },
        "id": "DZE0edriwtBR",
        "outputId": "10eb4409-5af5-4733-92ab-6ccfe359e724"
      },
      "execution_count": null,
      "outputs": [
        {
          "output_type": "stream",
          "name": "stdout",
          "text": [
            "Mounted at /content/drive\n"
          ]
        }
      ]
    },
    {
      "cell_type": "code",
      "metadata": {
        "id": "_a1vwklh24UF"
      },
      "source": [
        "def importData(path):\n",
        "  f = open(\"/content/drive/My Drive/CAPSTONE COVID DATASET/fasta_datasets/china/china.fasta\")\n",
        "  s1 = f.read()\n",
        "  data = \"\".join(s1.split(\"\\n\")[1:])\n",
        "  return data"
      ],
      "execution_count": null,
      "outputs": []
    },
    {
      "cell_type": "code",
      "metadata": {
        "id": "I90Kg96V6S9w"
      },
      "source": [
        "def getInput2(path):\n",
        "  f = open(\"/content/drive/My Drive/CAPSTONE COVID DATASET/fasta_datasets/china/china.fasta\")\n",
        "  s1 = f.read()\n",
        "  d=(s1.split(\">\"))[1:]\n",
        "  pool=[]\n",
        "  for string in d:\n",
        "    split_list=\"\".join(string.split(\"\\n\")[1:])\n",
        "    split_list=dropN(split_list.upper())\n",
        "    pool.append(split_list)\n",
        "  \n",
        "  return pool"
      ],
      "execution_count": null,
      "outputs": []
    },
    {
      "cell_type": "code",
      "metadata": {
        "id": "KBxFAx-I3Cps"
      },
      "source": [
        "def dropN(a):\n",
        "  res=\"\"\n",
        "  for letter in a:\n",
        "    if(letter!=\"N\"):\n",
        "      res+=letter\n",
        "  return res"
      ],
      "execution_count": null,
      "outputs": []
    },
    {
      "cell_type": "code",
      "metadata": {
        "id": "4hAiu8vb3VrU"
      },
      "source": [
        "def count_kmers(a,k):\n",
        "  d=collections.defaultdict(int)\n",
        "  for i in range(len(a)-k+1):\n",
        "    d[a[i:i+k]]+=1\n",
        "\n",
        "  return d"
      ],
      "execution_count": null,
      "outputs": []
    },
    {
      "cell_type": "code",
      "metadata": {
        "id": "NilKSUKK6Sft"
      },
      "source": [
        "def count_probability(f,k,N):\n",
        "  p=collections.defaultdict(float)\n",
        "  for key in f.keys():\n",
        "    p[key]=(float)(f[key]/(N-k+1))\n",
        "  \n",
        "  return p"
      ],
      "execution_count": null,
      "outputs": []
    },
    {
      "cell_type": "code",
      "metadata": {
        "id": "FNtmLH3tDq09"
      },
      "source": [
        "def chaos_game_representation(probabilities, k):\n",
        "    array_size = int(math.sqrt(4**k))\n",
        "    chaos = []\n",
        "    for i in range(array_size):\n",
        "        chaos.append([0]*array_size)\n",
        " \n",
        "    maxx = array_size\n",
        "    maxy = array_size\n",
        "    posx = 1\n",
        "    posy = 1\n",
        "    for key, value in probabilities.items():\n",
        "        for char in key:\n",
        "            if char == \"T\":\n",
        "                posx += maxx / 2\n",
        "            elif char == \"C\":\n",
        "                posy += maxy / 2\n",
        "            elif char == \"G\":\n",
        "                posx += maxx / 2\n",
        "                posy += maxy / 2\n",
        "            maxx = maxx / 2\n",
        "            maxy /= 2\n",
        "        chaos[(int)(posy)-1][(int)(posx)-1] = value\n",
        "        maxx = array_size\n",
        "        maxy = array_size\n",
        "        posx = 1\n",
        "        posy = 1\n",
        " \n",
        "    return chaos"
      ],
      "execution_count": null,
      "outputs": []
    },
    {
      "cell_type": "code",
      "metadata": {
        "id": "iX7geTUVFksQ"
      },
      "source": [
        "def plotPoints(chaos,path):\n",
        "  # plt.title('Chaos game representation for 4-mers')\n",
        "  plt.imshow(chaos, interpolation='nearest', cmap=cm.gray_r)\n",
        "  plt.savefig('/content/drive/My Drive/CAPSTONE COVID DATASET/fasta_fcgr/'+path+'.png', dpi=300)\n",
        "  #plt.savefig('/content/drive/My Drive/Colab Output/'+path+'.png', dpi=300)\n",
        "  # plt.show()"
      ],
      "execution_count": null,
      "outputs": []
    },
    {
      "cell_type": "code",
      "metadata": {
        "id": "JJJyVoNkFH_q"
      },
      "source": [
        "def plotPoints2(chaos,path,i):\n",
        "  # plt.title('Chaos game representation for 4-mers')\n",
        "  plt.imshow(chaos, interpolation='nearest', cmap=cm.gray_r)\n",
        "\n",
        "  plt.savefig('/content/drive/My Drive/CAPSTONE COVID DATASET/fasta_fcgr/'+path+'/'+str(i)+'.png', dpi=300)\n",
        "\n",
        "\n",
        "  # plt.show()"
      ],
      "execution_count": null,
      "outputs": []
    },
    {
      "cell_type": "markdown",
      "metadata": {
        "id": "vZXSF4SOEEEN"
      },
      "source": [
        "## Single FCGR"
      ]
    },
    {
      "cell_type": "code",
      "metadata": {
        "id": "6IAwsuGV3E6R"
      },
      "source": [
        "country=\"china\"\n",
        "data=importData(country)\n",
        "data=dropN(data.upper())"
      ],
      "execution_count": null,
      "outputs": []
    },
    {
      "cell_type": "code",
      "metadata": {
        "id": "sfMMXAEU4sRl"
      },
      "source": [
        "frequencies=count_kmers(data,4)\n",
        "probabilities=count_probability(frequencies,4,len(data))"
      ],
      "execution_count": null,
      "outputs": []
    },
    {
      "cell_type": "code",
      "metadata": {
        "id": "NpLhRkzA6w6m"
      },
      "source": [
        "chaos=chaos_game_representation(probabilities,4)"
      ],
      "execution_count": null,
      "outputs": []
    },
    {
      "cell_type": "code",
      "metadata": {
        "id": "wEDor-Q0Eayi",
        "outputId": "e5d4409a-8bbe-483e-810f-7f510872435f",
        "colab": {
          "base_uri": "https://localhost:8080/",
          "height": 265
        }
      },
      "source": [
        "plotPoints(chaos,\"fcgr_\"+country)"
      ],
      "execution_count": null,
      "outputs": [
        {
          "output_type": "display_data",
          "data": {
            "text/plain": [
              "<Figure size 432x288 with 1 Axes>"
            ],
            "image/png": "[encoded data removed]"
          },
          "metadata": {
            "needs_background": "light"
          }
        }
      ]
    },
    {
      "cell_type": "markdown",
      "metadata": {
        "id": "6QX4dFpzELYD"
      },
      "source": [
        "## Batch FCGR"
      ]
    },
    {
      "cell_type": "code",
      "metadata": {
        "id": "KCl4DodAEOId"
      },
      "source": [
        "country=\"china\"\n",
        "pool_old=getInput2(country)"
      ],
      "execution_count": null,
      "outputs": []
    },
    {
      "cell_type": "code",
      "metadata": {
        "id": "uJAGhzJvHClE"
      },
      "source": [
        "pool=[]\n",
        "for i in range(len(pool_old)):\n",
        "  if(len(pool_old[i])>=5000):\n",
        "    pool.append(pool_old[i])"
      ],
      "execution_count": null,
      "outputs": []
    },
    {
      "cell_type": "code",
      "metadata": {
        "id": "TUkGmiZLH7aK",
        "outputId": "28dd8d18-867e-45ff-e519-aac41887682c",
        "colab": {
          "base_uri": "https://localhost:8080/"
        }
      },
      "source": [
        "len(pool)"
      ],
      "execution_count": null,
      "outputs": [
        {
          "output_type": "execute_result",
          "data": {
            "text/plain": [
              "0"
            ]
          },
          "metadata": {},
          "execution_count": 52
        }
      ]
    },
    {
      "cell_type": "code",
      "metadata": {
        "id": "-NnecRaNEesr"
      },
      "source": [
        "chaos_pool=[]\n",
        "k=4\n",
        "for i in range(0):\n",
        "  frequencies=count_kmers(pool[i],k)\n",
        "  probabilities=count_probability(frequencies,k,len(pool[i]))\n",
        "  chaos=chaos_game_representation(probabilities,k)\n",
        "  chaos_pool.append(chaos)\n",
        "  plotPoints2(chaos,country,i)\n",
        "  if((i+1)%10==0):\n",
        "    print((i+1),\" completed processing.\")"
      ],
      "execution_count": null,
      "outputs": []
    },
    {
      "cell_type": "code",
      "metadata": {
        "id": "I32Gi-8lFfGM",
        "outputId": "a95223a3-3945-4760-c399-cae745036bfb",
        "colab": {
          "base_uri": "https://localhost:8080/"
        }
      },
      "source": [
        "len(chaos_pool)"
      ],
      "execution_count": null,
      "outputs": [
        {
          "output_type": "execute_result",
          "data": {
            "text/plain": [
              "50"
            ]
          },
          "metadata": {},
          "execution_count": 36
        }
      ]
    },
    {
      "cell_type": "code",
      "metadata": {
        "id": "2005uudNUe2M"
      },
      "source": [
        "with open('/content/drive/My Drive/CAPSTONE COVID DATASET/'+country+'/chaos_pool.pkl','wb') as p:\n",
        "  pickle.dump(chaos_pool,p)\n",
        "\n",
        "# #to load from pickle files\n",
        "with open('/content/drive/My Drive/CAPSTONE COVID DATASET/india_full/chaos_pool.pkl', 'rb') as f:\n",
        "   mynewlist = pickle.load(f)"
      ],
      "execution_count": null,
      "outputs": []
    }
  ]
}