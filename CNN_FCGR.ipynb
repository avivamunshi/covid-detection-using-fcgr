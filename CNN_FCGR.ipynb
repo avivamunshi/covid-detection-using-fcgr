{
  "cells": [
    {
      "cell_type": "code",
      "execution_count": null,
      "metadata": {
        "id": "rEI5-smmsA9-"
      },
      "outputs": [],
      "source": [
        "import os\n",
        "import glob\n",
        "from google.colab import drive"
      ]
    },
    {
      "cell_type": "code",
      "source": [
        "from google.colab import drive\n",
        "#drive.mount('/content/drive')\n",
        "drive.mount(\"/content/drive\", force_remount=True)"
      ],
      "metadata": {
        "colab": {
          "base_uri": "https://localhost:8080/"
        },
        "id": "CMpH_j0JuobN",
        "outputId": "7323a7cc-1858-4cc5-d4ad-235326b71dd1"
      },
      "execution_count": null,
      "outputs": [
        {
          "output_type": "stream",
          "name": "stdout",
          "text": [
            "Mounted at /content/drive\n"
          ]
        }
      ]
    },
    {
      "cell_type": "code",
      "source": [
        "other_vir_dir = os.path.join(\"/content/drive/My Drive/CAPSTONE COVID DATASET/581_non_COV/\")\n",
        "main_vir_dir = os.path.join(\"/content/drive/My Drive/CAPSTONE COVID DATASET/COV_Final/\")\n",
        "main_vir_files = glob.glob(main_vir_dir+'*.png')\n",
        "other_vir_files = glob.glob(other_vir_dir+'*.png')\n",
        "#for i in os.walk(main_vir_dir):\n",
        "  #print(i)"
      ],
      "metadata": {
        "id": "c-wCnGGRuLAw"
      },
      "execution_count": null,
      "outputs": []
    },
    {
      "cell_type": "code",
      "execution_count": null,
      "metadata": {
        "colab": {
          "base_uri": "https://localhost:8080/",
          "height": 206
        },
        "id": "WFmC9DjxsA-O",
        "outputId": "bfa9162c-668c-42ea-a2aa-f47a3f2a347b"
      },
      "outputs": [
        {
          "output_type": "execute_result",
          "data": {
            "text/plain": [
              "                                            filename     label\n",
              "0  /content/drive/My Drive/CAPSTONE COVID DATASET...  sarscov2\n",
              "1  /content/drive/My Drive/CAPSTONE COVID DATASET...  sarscov2\n",
              "2  /content/drive/My Drive/CAPSTONE COVID DATASET...  sarscov2\n",
              "3  /content/drive/My Drive/CAPSTONE COVID DATASET...  sarscov2\n",
              "4  /content/drive/My Drive/CAPSTONE COVID DATASET...     other"
            ],
            "text/html": [
              "\n",
              "  <div id=\"df-2fcb797f-8ff3-4ba0-8336-acd3cb97cc21\">\n",
              "    <div class=\"colab-df-container\">\n",
              "      <div>\n",
              "<style scoped>\n",
              "    .dataframe tbody tr th:only-of-type {\n",
              "        vertical-align: middle;\n",
              "    }\n",
              "\n",
              "    .dataframe tbody tr th {\n",
              "        vertical-align: top;\n",
              "    }\n",
              "\n",
              "    .dataframe thead th {\n",
              "        text-align: right;\n",
              "    }\n",
              "</style>\n",
              "<table border=\"1\" class=\"dataframe\">\n",
              "  <thead>\n",
              "    <tr style=\"text-align: right;\">\n",
              "      <th></th>\n",
              "      <th>filename</th>\n",
              "      <th>label</th>\n",
              "    </tr>\n",
              "  </thead>\n",
              "  <tbody>\n",
              "    <tr>\n",
              "      <th>0</th>\n",
              "      <td>/content/drive/My Drive/CAPSTONE COVID DATASET...</td>\n",
              "      <td>sarscov2</td>\n",
              "    </tr>\n",
              "    <tr>\n",
              "      <th>1</th>\n",
              "      <td>/content/drive/My Drive/CAPSTONE COVID DATASET...</td>\n",
              "      <td>sarscov2</td>\n",
              "    </tr>\n",
              "    <tr>\n",
              "      <th>2</th>\n",
              "      <td>/content/drive/My Drive/CAPSTONE COVID DATASET...</td>\n",
              "      <td>sarscov2</td>\n",
              "    </tr>\n",
              "    <tr>\n",
              "      <th>3</th>\n",
              "      <td>/content/drive/My Drive/CAPSTONE COVID DATASET...</td>\n",
              "      <td>sarscov2</td>\n",
              "    </tr>\n",
              "    <tr>\n",
              "      <th>4</th>\n",
              "      <td>/content/drive/My Drive/CAPSTONE COVID DATASET...</td>\n",
              "      <td>other</td>\n",
              "    </tr>\n",
              "  </tbody>\n",
              "</table>\n",
              "</div>\n",
              "      <button class=\"colab-df-convert\" onclick=\"convertToInteractive('df-2fcb797f-8ff3-4ba0-8336-acd3cb97cc21')\"\n",
              "              title=\"Convert this dataframe to an interactive table.\"\n",
              "              style=\"display:none;\">\n",
              "        \n",
              "  <svg xmlns=\"http://www.w3.org/2000/svg\" height=\"24px\"viewBox=\"0 0 24 24\"\n",
              "       width=\"24px\">\n",
              "    <path d=\"M0 0h24v24H0V0z\" fill=\"none\"/>\n",
              "    <path d=\"M18.56 5.44l.94 2.06.94-2.06 2.06-.94-2.06-.94-.94-2.06-.94 2.06-2.06.94zm-11 1L8.5 8.5l.94-2.06 2.06-.94-2.06-.94L8.5 2.5l-.94 2.06-2.06.94zm10 10l.94 2.06.94-2.06 2.06-.94-2.06-.94-.94-2.06-.94 2.06-2.06.94z\"/><path d=\"M17.41 7.96l-1.37-1.37c-.4-.4-.92-.59-1.43-.59-.52 0-1.04.2-1.43.59L10.3 9.45l-7.72 7.72c-.78.78-.78 2.05 0 2.83L4 21.41c.39.39.9.59 1.41.59.51 0 1.02-.2 1.41-.59l7.78-7.78 2.81-2.81c.8-.78.8-2.07 0-2.86zM5.41 20L4 18.59l7.72-7.72 1.47 1.35L5.41 20z\"/>\n",
              "  </svg>\n",
              "      </button>\n",
              "      \n",
              "  <style>\n",
              "    .colab-df-container {\n",
              "      display:flex;\n",
              "      flex-wrap:wrap;\n",
              "      gap: 12px;\n",
              "    }\n",
              "\n",
              "    .colab-df-convert {\n",
              "      background-color: #E8F0FE;\n",
              "      border: none;\n",
              "      border-radius: 50%;\n",
              "      cursor: pointer;\n",
              "      display: none;\n",
              "      fill: #1967D2;\n",
              "      height: 32px;\n",
              "      padding: 0 0 0 0;\n",
              "      width: 32px;\n",
              "    }\n",
              "\n",
              "    .colab-df-convert:hover {\n",
              "      background-color: #E2EBFA;\n",
              "      box-shadow: 0px 1px 2px rgba(60, 64, 67, 0.3), 0px 1px 3px 1px rgba(60, 64, 67, 0.15);\n",
              "      fill: #174EA6;\n",
              "    }\n",
              "\n",
              "    [theme=dark] .colab-df-convert {\n",
              "      background-color: #3B4455;\n",
              "      fill: #D2E3FC;\n",
              "    }\n",
              "\n",
              "    [theme=dark] .colab-df-convert:hover {\n",
              "      background-color: #434B5C;\n",
              "      box-shadow: 0px 1px 3px 1px rgba(0, 0, 0, 0.15);\n",
              "      filter: drop-shadow(0px 1px 2px rgba(0, 0, 0, 0.3));\n",
              "      fill: #FFFFFF;\n",
              "    }\n",
              "  </style>\n",
              "\n",
              "      <script>\n",
              "        const buttonEl =\n",
              "          document.querySelector('#df-2fcb797f-8ff3-4ba0-8336-acd3cb97cc21 button.colab-df-convert');\n",
              "        buttonEl.style.display =\n",
              "          google.colab.kernel.accessAllowed ? 'block' : 'none';\n",
              "\n",
              "        async function convertToInteractive(key) {\n",
              "          const element = document.querySelector('#df-2fcb797f-8ff3-4ba0-8336-acd3cb97cc21');\n",
              "          const dataTable =\n",
              "            await google.colab.kernel.invokeFunction('convertToInteractive',\n",
              "                                                     [key], {});\n",
              "          if (!dataTable) return;\n",
              "\n",
              "          const docLinkHtml = 'Like what you see? Visit the ' +\n",
              "            '<a target=\"_blank\" href=https://colab.research.google.com/notebooks/data_table.ipynb>data table notebook</a>'\n",
              "            + ' to learn more about interactive tables.';\n",
              "          element.innerHTML = '';\n",
              "          dataTable['output_type'] = 'display_data';\n",
              "          await google.colab.output.renderOutput(dataTable, element);\n",
              "          const docLink = document.createElement('div');\n",
              "          docLink.innerHTML = docLinkHtml;\n",
              "          element.appendChild(docLink);\n",
              "        }\n",
              "      </script>\n",
              "    </div>\n",
              "  </div>\n",
              "  "
            ]
          },
          "metadata": {},
          "execution_count": 40
        }
      ],
      "source": [
        "import numpy as np\n",
        "import pandas as pd\n",
        "\n",
        "np.random.seed(42)\n",
        "\n",
        "files_df = pd.DataFrame({\n",
        "    'filename': main_vir_files + other_vir_files,\n",
        "    'label': ['sarscov2'] * len(main_vir_files) + ['other'] * len(other_vir_files)\n",
        "    }).sample(frac=1, random_state=42).reset_index(drop=True)\n",
        "\n",
        "files_df.head()"
      ]
    },
    {
      "cell_type": "code",
      "execution_count": null,
      "metadata": {
        "colab": {
          "base_uri": "https://localhost:8080/"
        },
        "id": "A-msXOtKsA-Q",
        "outputId": "09eb0989-6f0c-4413-b83f-f4e8e36be1ce"
      },
      "outputs": [
        {
          "output_type": "stream",
          "name": "stdout",
          "text": [
            "(615,) (154,) (86,)\n",
            "Train: Counter({'sarscov2': 323, 'other': 292}) \n",
            "Val: Counter({'sarscov2': 85, 'other': 69}) \n",
            "Test: Counter({'sarscov2': 49, 'other': 37})\n"
          ]
        }
      ],
      "source": [
        "from sklearn.model_selection import train_test_split\n",
        "from collections import Counter\n",
        "\n",
        "train_files, test_files, train_labels, test_labels = train_test_split(files_df['filename'].values,\n",
        "                                                                      files_df['label'].values, \n",
        "                                                                      test_size=0.1, random_state=42)\n",
        "\n",
        "train_files, val_files, train_labels, val_labels = train_test_split(train_files,\n",
        "                                                                    train_labels, \n",
        "                                                                    test_size=0.2, random_state=42)\n",
        "\n",
        "print(train_files.shape, val_files.shape, test_files.shape)\n",
        "print('Train:', Counter(train_labels), '\\nVal:', Counter(val_labels), '\\nTest:', Counter(test_labels))"
      ]
    },
    {
      "cell_type": "code",
      "execution_count": null,
      "metadata": {
        "colab": {
          "base_uri": "https://localhost:8080/"
        },
        "id": "UU8mzUOgsA-R",
        "outputId": "23f39245-ebde-4d71-d3a8-6889b8f5defd"
      },
      "outputs": [
        {
          "output_type": "execute_result",
          "data": {
            "text/plain": [
              "(615,)"
            ]
          },
          "metadata": {},
          "execution_count": 42
        }
      ],
      "source": [
        "train_labels.shape"
      ]
    },
    {
      "cell_type": "code",
      "execution_count": null,
      "metadata": {
        "colab": {
          "base_uri": "https://localhost:8080/"
        },
        "id": "PrGOUD5-sA-e",
        "outputId": "c0edc988-7cae-408c-f4ec-6be98f77ce66"
      },
      "outputs": [
        {
          "output_type": "stream",
          "name": "stdout",
          "text": [
            "Starting Img shape computation:\n",
            "ThreadPoolExecutor-2_0: working on img num: 0\n",
            "ThreadPoolExecutor-2_9: working on img num: 50\n",
            "ThreadPoolExecutor-2_6: working on img num: 100\n",
            "ThreadPoolExecutor-2_6: working on img num: 150\n",
            "ThreadPoolExecutor-2_7: working on img num: 200\n",
            "ThreadPoolExecutor-2_3: working on img num: 250\n",
            "ThreadPoolExecutor-2_9: working on img num: 300\n",
            "ThreadPoolExecutor-2_0: working on img num: 350\n",
            "ThreadPoolExecutor-2_9: working on img num: 400\n",
            "ThreadPoolExecutor-2_3: working on img num: 450\n",
            "ThreadPoolExecutor-2_3: working on img num: 500\n",
            "ThreadPoolExecutor-2_3: working on img num: 550\n",
            "ThreadPoolExecutor-2_3: working on img num: 600\n",
            "ThreadPoolExecutor-2_6: working on img num: 614\n",
            "Min Dimensions: [1200 1800    3]\n",
            "Avg Dimensions: [1200. 1800.    3.]\n",
            "Median Dimensions: [1200. 1800.    3.]\n",
            "Max Dimensions: [1200 1800    3]\n"
          ]
        }
      ],
      "source": [
        "import cv2\n",
        "from concurrent import futures\n",
        "import threading\n",
        "\n",
        "def get_img_shape_parallel(idx, img, total_imgs):\n",
        "    if idx % 50 == 0 or idx == (total_imgs - 1):\n",
        "        print('{}: working on img num: {}'.format(threading.current_thread().name,\n",
        "                                                  idx))\n",
        "    return cv2.imread(img).shape\n",
        "  \n",
        "ex = futures.ThreadPoolExecutor(max_workers=None)\n",
        "data_inp = [(idx, img, len(train_files)) for idx, img in enumerate(train_files)]\n",
        "print('Starting Img shape computation:')\n",
        "train_img_dims_map = ex.map(get_img_shape_parallel, \n",
        "                            [record[0] for record in data_inp],\n",
        "                            [record[1] for record in data_inp],\n",
        "                            [record[2] for record in data_inp])\n",
        "train_img_dims = list(train_img_dims_map)\n",
        "print('Min Dimensions:', np.min(train_img_dims, axis=0)) \n",
        "print('Avg Dimensions:', np.mean(train_img_dims, axis=0))\n",
        "print('Median Dimensions:', np.median(train_img_dims, axis=0))\n",
        "print('Max Dimensions:', np.max(train_img_dims, axis=0))"
      ]
    },
    {
      "cell_type": "code",
      "execution_count": null,
      "metadata": {
        "colab": {
          "base_uri": "https://localhost:8080/"
        },
        "id": "g90CwDnisA-f",
        "outputId": "1dbd84c1-e7d0-4e8f-b3c6-2b7346e2dba9"
      },
      "outputs": [
        {
          "output_type": "stream",
          "name": "stdout",
          "text": [
            "Loading Train Images:\n",
            "ThreadPoolExecutor-3_0: working on img num: 0\n",
            "ThreadPoolExecutor-3_8: working on img num: 50\n",
            "ThreadPoolExecutor-3_4: working on img num: 100\n",
            "ThreadPoolExecutor-3_3: working on img num: 150\n",
            "ThreadPoolExecutor-3_1: working on img num: 200\n",
            "ThreadPoolExecutor-3_4: working on img num: 250\n",
            "ThreadPoolExecutor-3_2: working on img num: 300\n",
            "ThreadPoolExecutor-3_9: working on img num: 350\n",
            "ThreadPoolExecutor-3_2: working on img num: 400\n",
            "ThreadPoolExecutor-3_5: working on img num: 450\n",
            "ThreadPoolExecutor-3_7: working on img num: 500\n",
            "ThreadPoolExecutor-3_7: working on img num: 550\n",
            "ThreadPoolExecutor-3_0: working on img num: 600\n",
            "ThreadPoolExecutor-3_8: working on img num: 614\n",
            "\n",
            "Loading Test Images:\n",
            "ThreadPoolExecutor-3_2: working on img num: 0\n",
            "ThreadPoolExecutor-3_2: working on img num: 50\n",
            "ThreadPoolExecutor-3_8: working on img num: 85\n",
            "\n",
            "Loading Validation Images:\n",
            "ThreadPoolExecutor-3_0: working on img num: 0\n",
            "ThreadPoolExecutor-3_2: working on img num: 50\n",
            "ThreadPoolExecutor-3_7: working on img num: 100\n",
            "ThreadPoolExecutor-3_7: working on img num: 150\n",
            "ThreadPoolExecutor-3_2: working on img num: 153\n"
          ]
        },
        {
          "output_type": "execute_result",
          "data": {
            "text/plain": [
              "((615, 64, 64, 3), (86, 64, 64, 3), (154, 64, 64, 3))"
            ]
          },
          "metadata": {},
          "execution_count": 44
        }
      ],
      "source": [
        "IMG_DIMS = (64, 64)\n",
        "\n",
        "def get_img_data_parallel(idx, img, total_imgs):\n",
        "    if idx % 50 == 0 or idx == (total_imgs - 1):\n",
        "        print('{}: working on img num: {}'.format(threading.current_thread().name,\n",
        "                                                  idx))\n",
        "    img = cv2.imread(img)\n",
        "    img = cv2.resize(img, dsize=IMG_DIMS, \n",
        "                     interpolation=cv2.INTER_CUBIC)\n",
        "    img = np.array(img, dtype=np.float32)\n",
        "    return img\n",
        "\n",
        "ex = futures.ThreadPoolExecutor(max_workers=None)\n",
        "train_data_inp = [(idx, img, len(train_files)) for idx, img in enumerate(train_files)]\n",
        "test_data_inp = [(idx, img, len(test_files)) for idx, img in enumerate(test_files)]\n",
        "val_data_inp = [(idx, img, len(val_files)) for idx, img in enumerate(val_files)]\n",
        "\n",
        "print('Loading Train Images:')\n",
        "train_data_map = ex.map(get_img_data_parallel, \n",
        "                        [record[0] for record in train_data_inp],\n",
        "                        [record[1] for record in train_data_inp],\n",
        "                        [record[2] for record in train_data_inp])\n",
        "train_data = np.array(list(train_data_map))\n",
        "\n",
        "print('\\nLoading Test Images:')\n",
        "test_data_map = ex.map(get_img_data_parallel, \n",
        "                        [record[0] for record in test_data_inp],\n",
        "                        [record[1] for record in test_data_inp],\n",
        "                        [record[2] for record in test_data_inp])\n",
        "test_data = np.array(list(test_data_map))\n",
        "\n",
        "print('\\nLoading Validation Images:')\n",
        "val_data_map = ex.map(get_img_data_parallel, \n",
        "                        [record[0] for record in val_data_inp],\n",
        "                        [record[1] for record in val_data_inp],\n",
        "                        [record[2] for record in val_data_inp])\n",
        "val_data = np.array(list(val_data_map))\n",
        "\n",
        "train_data.shape, test_data.shape, val_data.shape"
      ]
    },
    {
      "cell_type": "code",
      "execution_count": null,
      "metadata": {
        "colab": {
          "base_uri": "https://localhost:8080/"
        },
        "id": "SUJJeZCssA-t",
        "outputId": "29709c7d-edba-4ae9-95e1-c4b7cb9ddaec"
      },
      "outputs": [
        {
          "output_type": "stream",
          "name": "stdout",
          "text": [
            "['other' 'other' 'other' 'sarscov2' 'other' 'other'] [0 0 0 1 0 0]\n"
          ]
        }
      ],
      "source": [
        "BATCH_SIZE = 1\n",
        "NUM_CLASSES = 2\n",
        "EPOCHS = 10\n",
        "INPUT_SHAPE = (64, 64, 3)\n",
        "\n",
        "train_imgs_scaled = train_data / 255.\n",
        "test_imgs_scaled = test_data / 255.\n",
        "\n",
        "# encode text category labels\n",
        "from sklearn.preprocessing import LabelEncoder\n",
        "\n",
        "le = LabelEncoder()\n",
        "le.fit(train_labels)\n",
        "train_labels_enc = le.transform(train_labels)\n",
        "test_labels_enc = le.transform(test_labels)\n",
        "\n",
        "print(train_labels[:6], train_labels_enc[:6])"
      ]
    },
    {
      "cell_type": "code",
      "execution_count": null,
      "metadata": {
        "id": "4Vb9BqdqsA-v"
      },
      "outputs": [],
      "source": [
        "import tensorflow as tf"
      ]
    },
    {
      "cell_type": "code",
      "execution_count": null,
      "metadata": {
        "colab": {
          "base_uri": "https://localhost:8080/"
        },
        "id": "nd45w-GosA-z",
        "outputId": "703d9f27-8c2a-4e71-e1f0-d5e20ac68bdd"
      },
      "outputs": [
        {
          "output_type": "stream",
          "name": "stdout",
          "text": [
            "Model: \"model_2\"\n",
            "_________________________________________________________________\n",
            " Layer (type)                Output Shape              Param #   \n",
            "=================================================================\n",
            " input_3 (InputLayer)        [(None, 64, 64, 3)]       0         \n",
            "                                                                 \n",
            " conv2d_4 (Conv2D)           (None, 64, 64, 128)       3584      \n",
            "                                                                 \n",
            " max_pooling2d_4 (MaxPooling  (None, 32, 32, 128)      0         \n",
            " 2D)                                                             \n",
            "                                                                 \n",
            " conv2d_5 (Conv2D)           (None, 32, 32, 16)        18448     \n",
            "                                                                 \n",
            " max_pooling2d_5 (MaxPooling  (None, 16, 16, 16)       0         \n",
            " 2D)                                                             \n",
            "                                                                 \n",
            " flatten_2 (Flatten)         (None, 4096)              0         \n",
            "                                                                 \n",
            " dense_4 (Dense)             (None, 256)               1048832   \n",
            "                                                                 \n",
            " dropout_2 (Dropout)         (None, 256)               0         \n",
            "                                                                 \n",
            " dense_5 (Dense)             (None, 1)                 257       \n",
            "                                                                 \n",
            "=================================================================\n",
            "Total params: 1,071,121\n",
            "Trainable params: 1,071,121\n",
            "Non-trainable params: 0\n",
            "_________________________________________________________________\n"
          ]
        }
      ],
      "source": [
        "inp = tf.keras.layers.Input(shape=INPUT_SHAPE)\n",
        "\n",
        "conv1 = tf.keras.layers.Conv2D(128, kernel_size=(3, 3), activation='relu', padding='same')(inp)\n",
        "pool1 = tf.keras.layers.MaxPooling2D(pool_size=(2, 2))(conv1)\n",
        "#conv2 = tf.keras.layers.Conv2D(64, kernel_size=(3, 3), activation='relu', padding='same')(pool1)\n",
        "#pool2 = tf.keras.layers.MaxPooling2D(pool_size=(2, 2))(conv2)\n",
        "conv3 = tf.keras.layers.Conv2D(16, kernel_size=(3, 3), activation='relu', padding='same')(pool1)\n",
        "pool3 = tf.keras.layers.MaxPooling2D(pool_size=(2, 2))(conv3)\n",
        "\n",
        "flat = tf.keras.layers.Flatten()(pool3)\n",
        "\n",
        "hidden1 = tf.keras.layers.Dense(256, activation='relu')(flat)\n",
        "drop1 = tf.keras.layers.Dropout(rate=0.3)(hidden1)\n",
        "#hidden2 = tf.keras.layers.Dense(512, activation='relu')(drop1)\n",
        "#drop2 = tf.keras.layers.Dropout(rate=0.3)(hidden2)\n",
        "\n",
        "out = tf.keras.layers.Dense(1, activation='sigmoid')(drop1)\n",
        "\n",
        "model = tf.keras.Model(inputs=inp, outputs=out)\n",
        "model.compile(optimizer='adam', loss='binary_crossentropy', metrics=['accuracy'])\n",
        "model.summary()"
      ]
    },
    {
      "cell_type": "code",
      "source": [
        "len(train_labels_enc)"
      ],
      "metadata": {
        "colab": {
          "base_uri": "https://localhost:8080/"
        },
        "id": "9f8zUZzoNmwT",
        "outputId": "8f5f86eb-d7f3-4644-c096-8184512da7c4"
      },
      "execution_count": null,
      "outputs": [
        {
          "output_type": "execute_result",
          "data": {
            "text/plain": [
              "615"
            ]
          },
          "metadata": {},
          "execution_count": 24
        }
      ]
    },
    {
      "cell_type": "code",
      "execution_count": null,
      "metadata": {
        "colab": {
          "base_uri": "https://localhost:8080/"
        },
        "id": "YsrPEmJ6sA-0",
        "outputId": "78f27c12-0c71-4b9c-8e55-0b7683b923e6"
      },
      "outputs": [
        {
          "output_type": "stream",
          "name": "stdout",
          "text": [
            "Epoch 1/10\n",
            "615/615 [==============================] - 16s 25ms/step - loss: 0.0508 - accuracy: 0.9870 - val_loss: 2.0086e-05 - val_accuracy: 1.0000\n",
            "Epoch 2/10\n",
            "615/615 [==============================] - 15s 24ms/step - loss: 1.0695e-04 - accuracy: 1.0000 - val_loss: 3.7297e-05 - val_accuracy: 1.0000\n",
            "Epoch 3/10\n",
            "615/615 [==============================] - 15s 24ms/step - loss: 9.4818e-04 - accuracy: 1.0000 - val_loss: 8.1409e-07 - val_accuracy: 1.0000\n",
            "Epoch 4/10\n",
            "615/615 [==============================] - 15s 24ms/step - loss: 1.3158e-05 - accuracy: 1.0000 - val_loss: 9.8975e-07 - val_accuracy: 1.0000\n",
            "Epoch 5/10\n",
            "615/615 [==============================] - 15s 24ms/step - loss: 0.2913 - accuracy: 0.8049 - val_loss: 0.6888 - val_accuracy: 0.5698\n",
            "Epoch 6/10\n",
            "615/615 [==============================] - 14s 23ms/step - loss: 0.6919 - accuracy: 0.5252 - val_loss: 0.6943 - val_accuracy: 0.4302\n",
            "Epoch 7/10\n",
            "615/615 [==============================] - 14s 23ms/step - loss: 0.6947 - accuracy: 0.5041 - val_loss: 0.6894 - val_accuracy: 0.5698\n",
            "Epoch 8/10\n",
            "615/615 [==============================] - 14s 23ms/step - loss: 0.6928 - accuracy: 0.5122 - val_loss: 0.6884 - val_accuracy: 0.5698\n",
            "Epoch 9/10\n",
            "615/615 [==============================] - 14s 23ms/step - loss: 0.6920 - accuracy: 0.5187 - val_loss: 0.6861 - val_accuracy: 0.5698\n",
            "Epoch 10/10\n",
            "615/615 [==============================] - 14s 23ms/step - loss: 0.6914 - accuracy: 0.5268 - val_loss: 0.6873 - val_accuracy: 0.5698\n"
          ]
        }
      ],
      "source": [
        "history = model.fit(x=train_imgs_scaled, y=train_labels_enc, \n",
        "                    batch_size=BATCH_SIZE,\n",
        "                    epochs=EPOCHS, \n",
        "                    validation_data=(test_imgs_scaled, test_labels_enc),\n",
        "                    verbose=1)"
      ]
    },
    {
      "cell_type": "code",
      "execution_count": null,
      "metadata": {
        "colab": {
          "base_uri": "https://localhost:8080/",
          "height": 308
        },
        "id": "kcRs-DqGsA-9",
        "outputId": "79992767-ae97-42fb-ab12-d16f3d45c0ab"
      },
      "outputs": [
        {
          "output_type": "display_data",
          "data": {
            "text/plain": [
              "<Figure size 864x288 with 2 Axes>"
            ],
            "image/png": "[encoded data removed]"
          },
          "metadata": {
            "needs_background": "light"
          }
        }
      ],
      "source": [
        "import matplotlib.pyplot as plt\n",
        "%matplotlib inline\n",
        "\n",
        "f, (ax1, ax2) = plt.subplots(1, 2, figsize=(12, 4))\n",
        "t = f.suptitle('Basic CNN Performance', fontsize=12)\n",
        "f.subplots_adjust(top=0.85, wspace=0.3)\n",
        "\n",
        "max_epoch = len(history.history['accuracy'])+1\n",
        "epoch_list = list(range(1,max_epoch))\n",
        "ax1.plot(epoch_list, history.history['accuracy'], label='Train Accuracy')\n",
        "ax1.plot(epoch_list, history.history['val_accuracy'], label='Testing Accuracy')\n",
        "ax1.set_xticks(np.arange(1, max_epoch, 5))\n",
        "ax1.set_ylabel('Accuracy Value')\n",
        "ax1.set_xlabel('Epoch')\n",
        "ax1.set_title('Accuracy')\n",
        "l1 = ax1.legend(loc=\"best\")\n",
        "\n",
        "ax2.plot(epoch_list, history.history['loss'], label='Train Loss')\n",
        "ax2.plot(epoch_list, history.history['val_loss'], label='Test Loss')\n",
        "ax2.set_xticks(np.arange(1, max_epoch, 5))\n",
        "ax2.set_ylabel('Loss Value')\n",
        "ax2.set_xlabel('Epoch')\n",
        "ax2.set_title('Loss')\n",
        "l2 = ax2.legend(loc=\"best\")"
      ]
    },
    {
      "cell_type": "code",
      "execution_count": null,
      "metadata": {
        "colab": {
          "base_uri": "https://localhost:8080/"
        },
        "id": "XyLXyCcksA_A",
        "outputId": "8596695d-0f54-41ed-f919-634afd30c758"
      },
      "outputs": [
        {
          "output_type": "stream",
          "name": "stdout",
          "text": [
            "Train: 0.525, Test: 0.570, Val: 0.552\n"
          ]
        }
      ],
      "source": [
        "val_imgs_scaled = val_data/255.\n",
        "val_labels_enc = le.transform(val_labels)\n",
        "\n",
        "# evaluate the model\n",
        "_, train_acc = model.evaluate(train_imgs_scaled, train_labels_enc, verbose=0)\n",
        "_, test_acc = model.evaluate(test_imgs_scaled, test_labels_enc, verbose=0)\n",
        "_, val_acc = model.evaluate(val_imgs_scaled, val_labels_enc, verbose=0)\n",
        "print('Train: %.3f, Test: %.3f, Val: %.3f' % (train_acc, test_acc, val_acc))"
      ]
    },
    {
      "cell_type": "code",
      "execution_count": null,
      "metadata": {
        "id": "QlCwhjM9sA_E"
      },
      "outputs": [],
      "source": [
        "model.save('covidVSother_fcgr_CNN.h5')"
      ]
    },
    {
      "cell_type": "code",
      "execution_count": null,
      "metadata": {
        "id": "nU-wVh7XsA_E"
      },
      "outputs": [],
      "source": [
        ""
      ]
    },
    {
      "cell_type": "code",
      "execution_count": null,
      "metadata": {
        "id": "GMkw9khSsA_F"
      },
      "outputs": [],
      "source": [
        ""
      ]
    }
  ],
  "metadata": {
    "kernelspec": {
      "display_name": "Python 3",
      "language": "python",
      "name": "python3"
    },
    "language_info": {
      "codemirror_mode": {
        "name": "ipython",
        "version": 3
      },
      "file_extension": ".py",
      "mimetype": "text/x-python",
      "name": "python",
      "nbconvert_exporter": "python",
      "pygments_lexer": "ipython3",
      "version": "3.7.5"
    },
    "colab": {
      "name": "CNN_FCGR.ipynb",
      "provenance": []
    }
  },
  "nbformat": 4,
  "nbformat_minor": 0
}